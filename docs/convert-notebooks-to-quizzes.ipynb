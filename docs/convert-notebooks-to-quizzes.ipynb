{
 "cells": [
  {
   "cell_type": "markdown",
   "id": "3f286769",
   "metadata": {},
   "source": [
    "# Convert Jupyter notebooks to Canvas quizzes\n",
    "This guide shows you how you go from Jupyter notebooks to generating multiple quizzes and sending them to Canvas. The following steps allow you to run the commands in the notebook (on a JupyterHub), but simply copy and paste the commands in your terminal if running on your local machine.\n",
    "***\n",
    "## Prerequisites:\n",
    "- Must have the Canvas API token\n",
    "- Must have the base notebook\n",
    "\n",
    "## Step 1: Remove any old \"Two Layers\" quizzes from Canvas (if applicable)\n",
    "Run the following cell:"
   ]
  },
  {
   "cell_type": "code",
   "execution_count": 3,
   "id": "dd310640",
   "metadata": {},
   "outputs": [],
   "source": [
    "%%bash\n",
    "remove -v .."
   ]
  },
  {
   "cell_type": "markdown",
   "id": "ef84c7b0",
   "metadata": {},
   "source": [
    "### Output should be similar to the following:\n",
    "![remove output](output_remove_canvas.png)"
   ]
  },
  {
   "cell_type": "markdown",
   "id": "6932546f",
   "metadata": {},
   "source": [
    "## Step 2: Remove any old notebooks from `output/` folder (if applicable)\n",
    "Run the following cell:"
   ]
  },
  {
   "cell_type": "code",
   "execution_count": 4,
   "id": "48e9db8a",
   "metadata": {},
   "outputs": [],
   "source": [
    "%%bash\n",
    "clean -v"
   ]
  },
  {
   "cell_type": "markdown",
   "id": "c92845ba",
   "metadata": {},
   "source": [
    "### Output should be similar to the following:\n",
    "![clean output](output_clean.png)"
   ]
  },
  {
   "cell_type": "markdown",
   "id": "48fa6ea5",
   "metadata": {},
   "source": [
    "## Step 3: Generate **N** notebooks with random parameters\n",
    "Run the following cell:"
   ]
  },
  {
   "cell_type": "code",
   "execution_count": 5,
   "id": "cb873afd",
   "metadata": {},
   "outputs": [
    {
     "name": "stderr",
     "output_type": "stream",
     "text": [
      "\r",
      "Executing:   0%|          | 0/7 [00:00<?, ?cell/s]\r",
      "Executing:  14%|█▍        | 1/7 [00:02<00:13,  2.24s/cell]\r",
      "Executing:  29%|██▊       | 2/7 [00:02<00:05,  1.02s/cell]\r",
      "Executing: 100%|██████████| 7/7 [00:02<00:00,  2.60cell/s]\n",
      "\r",
      "Executing:   0%|          | 0/7 [00:00<?, ?cell/s]\r",
      "Executing:  14%|█▍        | 1/7 [00:01<00:06,  1.05s/cell]\r",
      "Executing:  29%|██▊       | 2/7 [00:01<00:02,  1.94cell/s]\r",
      "Executing: 100%|██████████| 7/7 [00:01<00:00,  4.70cell/s]\n",
      "\r",
      "Executing:   0%|          | 0/7 [00:00<?, ?cell/s]\r",
      "Executing:  14%|█▍        | 1/7 [00:01<00:06,  1.08s/cell]\r",
      "Executing:  29%|██▊       | 2/7 [00:01<00:02,  1.90cell/s]\r",
      "Executing: 100%|██████████| 7/7 [00:01<00:00,  4.65cell/s]\n",
      "\r",
      "Executing:   0%|          | 0/7 [00:00<?, ?cell/s]\r",
      "Executing:  14%|█▍        | 1/7 [00:01<00:07,  1.18s/cell]\r",
      "Executing:  29%|██▊       | 2/7 [00:01<00:02,  1.76cell/s]\r",
      "Executing: 100%|██████████| 7/7 [00:01<00:00,  4.35cell/s]\n",
      "\r",
      "Executing:   0%|          | 0/7 [00:00<?, ?cell/s]\r",
      "Executing:  14%|█▍        | 1/7 [00:01<00:07,  1.31s/cell]\r",
      "Executing:  29%|██▊       | 2/7 [00:01<00:03,  1.54cell/s]\r",
      "Executing: 100%|██████████| 7/7 [00:01<00:00,  3.92cell/s]\n"
     ]
    }
   ],
   "source": [
    "%%bash\n",
    "N=5\n",
    "generate -n $N notebooks/"
   ]
  },
  {
   "cell_type": "markdown",
   "id": "5eb14f91",
   "metadata": {},
   "source": [
    "### Expected output:\n",
    "![generate notebooks expected output](output_generate.png)\n",
    "\n",
    "### What the notebook should look like:\n",
    "See an example [here](ex_two_layers.md).  \n",
    "The notebooks are located at `quiz_mill/notebooks/output/unfiltered/`."
   ]
  },
  {
   "cell_type": "markdown",
   "id": "a59656b4",
   "metadata": {},
   "source": [
    "## Step 4: Filter notebooks into student and solution notebook versions\n",
    "Run the following cell:"
   ]
  },
  {
   "cell_type": "code",
   "execution_count": 6,
   "id": "d6ad7a39",
   "metadata": {},
   "outputs": [
    {
     "name": "stdout",
     "output_type": "stream",
     "text": [
      "Saved /Users/carolzhang/Projects/eoas-ubc/quiz_mill/docs/notebooks/output/filtered/student/output_two_layers5_student.ipynb\n",
      "Saved /Users/carolzhang/Projects/eoas-ubc/quiz_mill/docs/notebooks/output/filtered/solution/output_two_layers5_solution.ipynb\n",
      "Saved /Users/carolzhang/Projects/eoas-ubc/quiz_mill/docs/notebooks/output/filtered/student/output_two_layers1_student.ipynb\n",
      "Saved /Users/carolzhang/Projects/eoas-ubc/quiz_mill/docs/notebooks/output/filtered/solution/output_two_layers1_solution.ipynb\n",
      "Saved /Users/carolzhang/Projects/eoas-ubc/quiz_mill/docs/notebooks/output/filtered/student/output_two_layers3_student.ipynb\n",
      "Saved /Users/carolzhang/Projects/eoas-ubc/quiz_mill/docs/notebooks/output/filtered/solution/output_two_layers3_solution.ipynb\n",
      "Saved /Users/carolzhang/Projects/eoas-ubc/quiz_mill/docs/notebooks/output/filtered/student/output_two_layers4_student.ipynb\n",
      "Saved /Users/carolzhang/Projects/eoas-ubc/quiz_mill/docs/notebooks/output/filtered/solution/output_two_layers4_solution.ipynb\n",
      "Saved /Users/carolzhang/Projects/eoas-ubc/quiz_mill/docs/notebooks/output/filtered/student/output_two_layers2_student.ipynb\n",
      "Saved /Users/carolzhang/Projects/eoas-ubc/quiz_mill/docs/notebooks/output/filtered/solution/output_two_layers2_solution.ipynb\n"
     ]
    }
   ],
   "source": [
    "%%bash\n",
    "filter -v notebooks/output"
   ]
  },
  {
   "cell_type": "markdown",
   "id": "d98e6f02",
   "metadata": {},
   "source": [
    "### Expected output:\n",
    "![filter notebook](output_filter.png)\n",
    "\n",
    "### Student notebook:\n",
    "See [here](ex_output_two_layers1_student.md) for an example student notebook.\n",
    "\n",
    "### Solution notebook:\n",
    "See [here](ex_output_two_layers1_solution.md) for an example solution notebook."
   ]
  },
  {
   "cell_type": "markdown",
   "id": "609bc051",
   "metadata": {},
   "source": [
    "### Step 5: Send solution notebooks as quizzes to Canvas\n",
    "Run the following cell:"
   ]
  },
  {
   "cell_type": "code",
   "execution_count": 11,
   "id": "3e4a180b",
   "metadata": {},
   "outputs": [
    {
     "name": "stdout",
     "output_type": "stream",
     "text": [
      "Parsing the quiz at notebooks/output/filtered/solution/output_two_layers1_solution.md\n",
      "Uploading quiz to Canvas with following settings:\n",
      "  URL = https://canvas.ubc.ca\n",
      "  Token = 1122**************************************************************3h8m\n",
      "  Course ID = 51824\n",
      "\n",
      "Parsing the quiz at notebooks/output/filtered/solution/output_two_layers4_solution.md\n",
      "Uploading quiz to Canvas with following settings:\n",
      "  URL = https://canvas.ubc.ca\n",
      "  Token = 1122**************************************************************3h8m\n",
      "  Course ID = 51824\n",
      "\n",
      "Parsing the quiz at notebooks/output/filtered/solution/output_two_layers2_solution.md\n",
      "Uploading quiz to Canvas with following settings:\n",
      "  URL = https://canvas.ubc.ca\n",
      "  Token = 1122**************************************************************3h8m\n",
      "  Course ID = 51824\n",
      "\n",
      "Parsing the quiz at notebooks/output/filtered/solution/output_two_layers5_solution.md\n",
      "Uploading quiz to Canvas with following settings:\n",
      "  URL = https://canvas.ubc.ca\n",
      "  Token = 1122**************************************************************3h8m\n",
      "  Course ID = 51824\n",
      "\n",
      "Parsing the quiz at notebooks/output/filtered/solution/output_two_layers3_solution.md\n",
      "Uploading quiz to Canvas with following settings:\n",
      "  URL = https://canvas.ubc.ca\n",
      "  Token = 1122**************************************************************3h8m\n",
      "  Course ID = 51824\n",
      "\n"
     ]
    }
   ],
   "source": [
    "%%bash\n",
    "send -c 51824 -v notebooks/output/filtered/solution/"
   ]
  },
  {
   "cell_type": "markdown",
   "id": "d1f3876e",
   "metadata": {},
   "source": [
    "### Expected output:\n",
    "![to-canvas output](out_to_canvas.png)\n",
    "\n",
    "### What you should see on Canvas:\n",
    "![quizzes on Canvas](canvas_quizzes.png)"
   ]
  },
  {
   "cell_type": "markdown",
   "id": "eea2151f",
   "metadata": {},
   "source": [
    "See the [reference](reference.ipynb) guide for full details of commands and options."
   ]
  }
 ],
 "metadata": {
  "kernelspec": {
   "display_name": "Python 3 (ipykernel)",
   "language": "python",
   "name": "python3"
  },
  "language_info": {
   "codemirror_mode": {
    "name": "ipython",
    "version": 3
   },
   "file_extension": ".py",
   "mimetype": "text/x-python",
   "name": "python",
   "nbconvert_exporter": "python",
   "pygments_lexer": "ipython3",
   "version": "3.8.10"
  }
 },
 "nbformat": 4,
 "nbformat_minor": 5
}
