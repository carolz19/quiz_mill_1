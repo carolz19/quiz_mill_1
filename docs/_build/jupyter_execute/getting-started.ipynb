{
 "cells": [
  {
   "cell_type": "markdown",
   "id": "b2b74181",
   "metadata": {},
   "source": [
    "# Getting started\n",
    "These tutorials will help you setup and prepare to use the converter.\n",
    "\n",
    "- [Environment setup](environment-setup.md)\n",
    "- [Understanding the project file structure](project-file-structure.md)\n",
    "- [Getting the Canvas API token](canvas-api.md)"
   ]
  }
 ],
 "metadata": {
  "jupytext": {
   "text_representation": {
    "extension": ".md",
    "format_name": "myst",
    "format_version": 0.13,
    "jupytext_version": "1.10.3"
   }
  },
  "kernelspec": {
   "display_name": "Python 3",
   "language": "python",
   "name": "python3"
  },
  "source_map": [
   12
  ]
 },
 "nbformat": 4,
 "nbformat_minor": 5
}