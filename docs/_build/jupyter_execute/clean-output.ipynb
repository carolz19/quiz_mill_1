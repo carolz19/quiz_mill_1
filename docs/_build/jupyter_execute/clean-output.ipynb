{
 "cells": [
  {
   "cell_type": "markdown",
   "id": "b958fce9",
   "metadata": {},
   "source": [
    "# Clean output\n",
    "This script deletes all files in the `output/` folder in the [project file structure](project-file-structure.md).\n",
    "\n",
    "## How the script works\n",
    "\n",
    "### Import libraries"
   ]
  },
  {
   "cell_type": "markdown",
   "id": "15326e2a",
   "metadata": {},
   "source": [
    "```\n",
    "import click\n",
    "import os\n",
    "```"
   ]
  },
  {
   "cell_type": "markdown",
   "id": "438f917f",
   "metadata": {},
   "source": [
    "### Delete files function\n",
    "Recursively travels through the directory, deleting files."
   ]
  },
  {
   "cell_type": "markdown",
   "id": "e0c2c443",
   "metadata": {},
   "source": [
    "```\n",
    "def delete_files(path, verbose):\n",
    "    content = os.listdir(path)\n",
    "\n",
    "    for f in content:\n",
    "        file_path = os.path.join(path, f)\n",
    "        try:\n",
    "            if os.path.isfile(file_path):\n",
    "                os.unlink(file_path)\n",
    "                if verbose:\n",
    "                    print(\"Removed\", file_path)\n",
    "            elif os.path.isdir(file_path):\n",
    "                delete_files(file_path, verbose)\n",
    "        except Exception as e:\n",
    "            print('Failed to delete %s. Reason: %s' % (file_path, e))\n",
    "```"
   ]
  },
  {
   "cell_type": "markdown",
   "id": "386d46f7",
   "metadata": {},
   "source": [
    "### Main function\n",
    "Function that will be run when `clean` command is run."
   ]
  },
  {
   "cell_type": "markdown",
   "id": "40e2af28",
   "metadata": {},
   "source": [
    "```\n",
    "@click.command()\n",
    "@click.option(\"-v\", \"--verbose\", is_flag=True, default=False)\n",
    "def main(verbose):\n",
    "    delete_files(\"../notebooks/output/\", verbose)\n",
    "\n",
    "if __name__==\"__main__\":\n",
    "    main()\n",
    "```"
   ]
  }
 ],
 "metadata": {
  "jupytext": {
   "text_representation": {
    "extension": ".md",
    "format_name": "myst",
    "format_version": 0.13,
    "jupytext_version": "1.10.3"
   }
  },
  "kernelspec": {
   "display_name": "Python 3",
   "language": "python",
   "name": "python3"
  },
  "source_map": [
   12,
   21,
   28,
   33,
   52,
   57
  ]
 },
 "nbformat": 4,
 "nbformat_minor": 5
}