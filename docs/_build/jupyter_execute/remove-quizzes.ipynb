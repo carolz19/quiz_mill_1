{
 "cells": [
  {
   "cell_type": "markdown",
   "id": "631d41c3",
   "metadata": {},
   "source": [
    "# Remove Quizzes\n",
    "Script to remove all Two Layers quizzes from Canvas."
   ]
  },
  {
   "cell_type": "markdown",
   "id": "bf906430",
   "metadata": {},
   "source": [
    "## How the script works\n",
    "\n",
    "### Import libraries"
   ]
  },
  {
   "cell_type": "markdown",
   "id": "64e29ae2",
   "metadata": {},
   "source": [
    "```\n",
    "from canvasapi import Canvas\n",
    "from pathlib import Path\n",
    "import yaml\n",
    "```"
   ]
  },
  {
   "cell_type": "markdown",
   "id": "4f062c2f",
   "metadata": {},
   "source": [
    "### Main function\n",
    "How it works:\n",
    "1. Get tokens\n",
    "2. Get Canvas object\n",
    "3. Get course object and assignments\n",
    "4. Delete Two Layers quizzes from Canvas"
   ]
  },
  {
   "cell_type": "markdown",
   "id": "181c5e49",
   "metadata": {},
   "source": [
    "```\n",
    "def main(path, verbose):\n",
    "\n",
    "    path_to_token = Path(path).resolve()\n",
    "    file = open(path_to_token / \"token.yaml\")\n",
    "    token = yaml.load(file, Loader=yaml.FullLoader)\n",
    "\n",
    "    API_URL = \"https://canvas.ubc.ca/\"\n",
    "    API_KEY = token\n",
    "\n",
    "    canvas = Canvas(API_URL, API_KEY)\n",
    "\n",
    "    course = canvas.get_course(51824)\n",
    "\n",
    "    assignments = course.get_assignments()\n",
    "\n",
    "    for assignment in assignments:\n",
    "        if 'Two Layers' in str(assignment):\n",
    "            assignment.delete()\n",
    "            if verbose:\n",
    "                print(str(assignment), \"deleted\")\n",
    "```"
   ]
  }
 ],
 "metadata": {
  "jupytext": {
   "text_representation": {
    "extension": ".md",
    "format_name": "myst",
    "format_version": 0.13,
    "jupytext_version": "1.10.3"
   }
  },
  "kernelspec": {
   "display_name": "Python 3",
   "language": "python",
   "name": "python3"
  },
  "source_map": [
   12,
   17,
   23,
   31,
   40
  ]
 },
 "nbformat": 4,
 "nbformat_minor": 5
}