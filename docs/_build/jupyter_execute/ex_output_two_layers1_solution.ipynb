{
 "cells": [
  {
   "cell_type": "markdown",
   "id": "434c6cff",
   "metadata": {
    "allowed_attempts": 3,
    "cant_go_back": false,
    "ctype": "quiz",
    "scoring_policy": "keep_highest",
    "shuffle_answers": false,
    "title": "Two Layers Quiz 1"
   },
   "source": [
    "# Two Layers Quiz 1"
   ]
  },
  {
   "cell_type": "markdown",
   "id": "c4991eee",
   "metadata": {
    "ctype": "group",
    "name": "general"
   },
   "source": [
    "## Questions"
   ]
  },
  {
   "cell_type": "markdown",
   "id": "8497e0df",
   "metadata": {
    "ctype": "question",
    "quesnum": "1",
    "question_type": "numerical_question"
   },
   "source": [
    "### Question 1\n",
    "sol = 193.5, epsilon1 = 0.63, epsilon2 = 0.63, albedo = 0.14\n",
    "Given the above parameters, find the temperature of layer 1.\n",
    "Give your answer to three decimal places."
   ]
  },
  {
   "cell_type": "markdown",
   "id": "15d28a24",
   "metadata": {
    "ctype": "answer",
    "quesnum": "1"
   },
   "source": [
    "* 124.735, 3: precision_answer"
   ]
  }
 ],
 "metadata": {
  "jupytext": {
   "cell_metadata_filter": "-all",
   "formats": "md:myst,ipynb,py:percent",
   "notebook_metadata_filter": "all,-language_info,-toc,-latex_envs",
   "text_representation": {
    "extension": ".md",
    "format_name": "myst",
    "format_version": 0.13,
    "jupytext_version": "1.10.3"
   }
  },
  "kernelspec": {
   "display_name": "Python 3",
   "language": "python",
   "name": "python3"
  },
  "papermill": {
   "default_parameters": {},
   "duration": 2.021539,
   "end_time": "2021-08-16T20:50:18.705938",
   "environment_variables": {},
   "exception": null,
   "input_path": "/Users/carolzhang/Projects/eoas-ubc/quiz_mill/notebooks/two_layers.ipynb",
   "output_path": "/Users/carolzhang/Projects/eoas-ubc/quiz_mill/notebooks/output/unfiltered/output_two_layers1.ipynb",
   "parameters": {
    "albedo": 0.14,
    "epsilon1": 0.63,
    "epsilon2": 0.63,
    "sol": 193.5
   },
   "start_time": "2021-08-16T20:50:16.684399",
   "version": "2.3.3"
  },
  "source_map": [
   32,
   36,
   40,
   47
  ]
 },
 "nbformat": 4,
 "nbformat_minor": 5
}