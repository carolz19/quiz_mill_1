{
 "cells": [
  {
   "cell_type": "markdown",
   "id": "427aa370",
   "metadata": {},
   "source": [
    "# Environment setup\n",
    "If you are running on your own machine, you may want to set up a local environment. The below instructions assume you are going to be using conda.\n",
    "\n",
    "---\n",
    "## Before you start\n",
    "Know the basics of Conda (see [here](https://docs.conda.io/en/latest/)).\n",
    "\n",
    "## Install Conda\n",
    "- macOS users: [Installing on macOS](https://docs.conda.io/projects/conda/en/latest/user-guide/install/macos.html)\n",
    "- Windows users: [Installing on Windows](https://docs.conda.io/projects/conda/en/latest/user-guide/install/windows.html)\n",
    "- Linux users: [Installing on Linux](https://docs.conda.io/projects/conda/en/latest/user-guide/install/linux.html)\n",
    "\n",
    "## Creating the environment from the environment.yml file\n",
    "1. Open your terminal\n",
    "2. `cd` to the outermost quiz_mill/ folder\n",
    "3. Enter the following command in your terminal: ```$ conda create```\n",
    "4. Activate the environment: ```$ conda activate quiz-mill``` \n",
    "\n",
    "## Installing the command-line utilities\n",
    "To use commands like `filter-notebook` and `generate-notebooks`, we need to install them first.\n",
    "\n",
    "1. `cd` to the outermost quiz_mill/ folder\n",
    "2. Enter the following code into the terminal:  \n",
    "```$ pip install .```"
   ]
  }
 ],
 "metadata": {
  "jupytext": {
   "text_representation": {
    "extension": ".md",
    "format_name": "myst",
    "format_version": 0.13,
    "jupytext_version": "1.10.3"
   }
  },
  "kernelspec": {
   "display_name": "Python 3",
   "language": "python",
   "name": "python3"
  },
  "source_map": [
   12
  ]
 },
 "nbformat": 4,
 "nbformat_minor": 5
}