{
 "cells": [
  {
   "cell_type": "markdown",
   "id": "dac347e3",
   "metadata": {},
   "source": [
    "# Getting the Canvas API token\n",
    "Your Canvas API token is used to send your quizzes to Canvas."
   ]
  },
  {
   "cell_type": "markdown",
   "id": "3678f1ac",
   "metadata": {},
   "source": [
    "## Step 1: Go to user settings\n",
    "<!-- <img src=\"user_settings.png\" alt=\"user settings\" style=\"width: 300px;\"/> -->\n",
    "![user settings](user_settings.png)\n",
    "\n",
    "## Step 2: Scroll down to `Approved Integrations` section of page\n",
    "<!-- <img src=\"approved_integrations.png\" alt=\"approved integrations\" style=\"width: 500px;\"/> -->\n",
    "![approved integrations](approved_integrations.png)\n",
    "\n",
    "## Step 3: Click on `+ New Access Token`\n",
    "<!-- <img src=\"token_button.png\" alt=\"new access token button\" style=\"width: 500px;\"/> -->\n",
    "![new access token button](token_button.png)\n",
    "\n",
    "## Step 4: Give your token an appropriate name, don't set an expiry date and hit `Generate Token`\n",
    "<!-- <img src=\"generate_token.png\" alt=\"generate token\" style=\"width: 300px;\"/> -->\n",
    "![generate token](generate_token.png)  \n",
    "\n",
    "- a pop-up looking like this should come up:\n",
    "<!-- <img src=\"generated_token.png\" alt=\"generated token\" style=\"width: 400px;\"/> -->\n",
    "![generated token](generated_token.png)\n",
    "\n",
    "## Step 5: copy all of the text in `Token:` and paste it into the local `token.yaml` file and you're done!  \n",
    "  \n",
    "Credit: https://github.com/phaustin/eoas-wl/tree/main/canvas-api"
   ]
  }
 ],
 "metadata": {
  "jupytext": {
   "formats": "ipynb,md:myst",
   "text_representation": {
    "extension": ".md",
    "format_name": "myst",
    "format_version": 0.13,
    "jupytext_version": "1.10.3"
   }
  },
  "kernelspec": {
   "display_name": "Python 3",
   "language": "python",
   "name": "python3"
  },
  "source_map": [
   13,
   18
  ]
 },
 "nbformat": 4,
 "nbformat_minor": 5
}