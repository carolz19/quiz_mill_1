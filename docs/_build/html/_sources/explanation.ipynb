{
 "cells": [
  {
   "cell_type": "markdown",
   "id": "7a2d5c04",
   "metadata": {},
   "source": [
    "# Explanation\n",
    "Learn how the scripts and commands work. Not necessary to know in order to use this tool.\n",
    "\n",
    "- [`remove_quizzes.py`](remove-quizzes.md)\n",
    "- [`clean_output.py`](clean-output.md)\n",
    "- [`generate_notebooks.py`](generate-notebooks.md)\n",
    "- [`filter_notebooks.py`](filter-notebooks.md)\n",
    "- [`send_to_canvas.py`](send-to-canvas.md)"
   ]
  }
 ],
 "metadata": {
  "jupytext": {
   "text_representation": {
    "extension": ".md",
    "format_name": "myst",
    "format_version": 0.13,
    "jupytext_version": "1.10.3"
   }
  },
  "kernelspec": {
   "display_name": "Python 3",
   "language": "python",
   "name": "python3"
  },
  "source_map": [
   12
  ]
 },
 "nbformat": 4,
 "nbformat_minor": 5
}