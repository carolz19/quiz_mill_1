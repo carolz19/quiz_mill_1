{
 "cells": [
  {
   "cell_type": "markdown",
   "id": "947ceb21",
   "metadata": {},
   "source": [
    "# Project file structure\n",
    "Many scripts and commands require a specific file structure to run properly. The below diagram shows what the project file structure should look like (only folders that are required by scripts and commands are shown).\n",
    "\n",
    "![file structure](file_structure.png)"
   ]
  }
 ],
 "metadata": {
  "jupytext": {
   "text_representation": {
    "extension": ".md",
    "format_name": "myst",
    "format_version": 0.13,
    "jupytext_version": "1.10.3"
   }
  },
  "kernelspec": {
   "display_name": "Python 3",
   "language": "python",
   "name": "python3"
  },
  "source_map": [
   12
  ]
 },
 "nbformat": 4,
 "nbformat_minor": 5
}