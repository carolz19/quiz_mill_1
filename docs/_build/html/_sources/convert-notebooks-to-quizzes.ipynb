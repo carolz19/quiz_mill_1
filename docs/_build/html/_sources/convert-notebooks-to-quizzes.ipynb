{
 "cells": [
  {
   "cell_type": "markdown",
   "id": "f806a7c4",
   "metadata": {},
   "source": [
    "# Convert Jupyter notebooks to Canvas quizzes\n",
    "This guide shows you how you go from Jupyter notebooks to generating multiple quizzes and sending them to Canvas. The following steps allow you to run the commands in the notebook (on a JupyterHub), but simply copy and paste the commands in your terminal if running on your local machine.\n",
    "***\n",
    "## Prerequisites:\n",
    "- Must have the Canvas API token\n",
    "- Must have the base notebook\n",
    "\n",
    "## Step 1: Remove any old \"Two Layers\" quizzes from Canvas (if applicable)\n",
    "Run the following cell:"
   ]
  },
  {
   "cell_type": "code",
   "execution_count": null,
   "id": "9a9f1644",
   "metadata": {},
   "outputs": [],
   "source": [
    "%%bash\n",
    "remove -v .."
   ]
  },
  {
   "cell_type": "markdown",
   "id": "b7469a3e",
   "metadata": {},
   "source": [
    "### Output should be similar to the following:\n",
    "![remove output](output_remove_canvas.png)"
   ]
  },
  {
   "cell_type": "markdown",
   "id": "a53aaec8",
   "metadata": {},
   "source": [
    "## Step 2: Remove any old notebooks from `output/` folder (if applicable)\n",
    "Run the following cell:"
   ]
  },
  {
   "cell_type": "code",
   "execution_count": null,
   "id": "bb24a66b",
   "metadata": {},
   "outputs": [],
   "source": [
    "%%bash\n",
    "clean -v"
   ]
  },
  {
   "cell_type": "markdown",
   "id": "017dbc84",
   "metadata": {},
   "source": [
    "### Output should be similar to the following:\n",
    "![clean output](output_clean.png)"
   ]
  },
  {
   "cell_type": "markdown",
   "id": "94341e0d",
   "metadata": {},
   "source": [
    "## Step 3: Generate **N** notebooks with random parameters\n",
    "Run the following cell:"
   ]
  },
  {
   "cell_type": "code",
   "execution_count": null,
   "id": "b7fbe543",
   "metadata": {},
   "outputs": [],
   "source": [
    "%%bash\n",
    "N=5\n",
    "generate -n $N notebooks/"
   ]
  },
  {
   "cell_type": "markdown",
   "id": "83d358f8",
   "metadata": {},
   "source": [
    "### Expected output:\n",
    "![generate notebooks expected output](output_generate.png)\n",
    "\n",
    "### What the notebook should look like:\n",
    "See an example [here](ex_two_layers.md).  \n",
    "The notebooks are located at `quiz_mill/notebooks/output/unfiltered/`."
   ]
  },
  {
   "cell_type": "markdown",
   "id": "9cae0c60",
   "metadata": {},
   "source": [
    "## Step 4: Filter notebooks into student and solution notebook versions\n",
    "Run the following cell:"
   ]
  },
  {
   "cell_type": "code",
   "execution_count": null,
   "id": "ae032c94",
   "metadata": {},
   "outputs": [],
   "source": [
    "%%bash\n",
    "filter -v notebooks/output"
   ]
  },
  {
   "cell_type": "markdown",
   "id": "28979a01",
   "metadata": {},
   "source": [
    "### Expected output:\n",
    "![filter notebook](output_filter.png)\n",
    "\n",
    "### Student notebook:\n",
    "See [here](ex_output_two_layers1_student.md) for an example student notebook.\n",
    "\n",
    "### Solution notebook:\n",
    "See [here](ex_output_two_layers1_solution.md) for an example solution notebook."
   ]
  },
  {
   "cell_type": "markdown",
   "id": "29a86d14",
   "metadata": {},
   "source": [
    "### Step 5: Send solution notebooks as quizzes to Canvas\n",
    "Run the following cell:"
   ]
  },
  {
   "cell_type": "code",
   "execution_count": null,
   "id": "0c0d9ab3",
   "metadata": {},
   "outputs": [],
   "source": [
    "%%bash\n",
    "send -c 51824 -v notebooks/output/filtered/solution/"
   ]
  },
  {
   "cell_type": "markdown",
   "id": "511e5587",
   "metadata": {},
   "source": [
    "### Expected output:\n",
    "![to-canvas output](out_to_canvas.png)\n",
    "\n",
    "### What you should see on Canvas:\n",
    "![quizzes on Canvas](canvas_quizzes.png)"
   ]
  },
  {
   "cell_type": "markdown",
   "id": "96274ef1",
   "metadata": {},
   "source": [
    "See the [reference](reference.ipynb) guide for full details of commands and options."
   ]
  }
 ],
 "metadata": {
  "jupytext": {
   "text_representation": {
    "extension": ".md",
    "format_name": "myst",
    "format_version": 0.13,
    "jupytext_version": "1.10.3"
   }
  },
  "kernelspec": {
   "display_name": "Python 3",
   "language": "python",
   "name": "python3"
  },
  "source_map": [
   12,
   24,
   27,
   32,
   37,
   40,
   45,
   50,
   54,
   63,
   68,
   71,
   82,
   87,
   90,
   98
  ]
 },
 "nbformat": 4,
 "nbformat_minor": 5
}