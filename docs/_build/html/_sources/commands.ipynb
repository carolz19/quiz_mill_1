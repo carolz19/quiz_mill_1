{
 "cells": [
  {
   "cell_type": "markdown",
   "id": "d5c0ef2d",
   "metadata": {},
   "source": [
    "# Command reference\n",
    "\n",
    "## remove\n",
    "```remove [OPTIONS] TOKENPATH```   \n",
    "  \n",
    "OPTIONS:  \n",
    "**-v, --verbose** := Cause **remove** to be verbose, showing quizzes deleted.\n",
    "\n",
    "ARGUMENTS:  \n",
    "**TOKENPATH** := Required argument. Path to location of `token.yaml` file.  \n",
    "\n",
    "---\n",
    "## clean\n",
    "```clean [OPTIONS]```  \n",
    "  \n",
    "OPTIONS:  \n",
    "**-v, --verbose** := Cause **clean** to be verbose, showing files removed.\n",
    "\n",
    "---\n",
    "## generate\n",
    "```generate [OPTIONS] NOTEBOOKPATH```  \n",
    "  \n",
    "OPTIONS:\n",
    "**-n, --number** \\<number> := Specify the number of notebooks to create.  \n",
    "\n",
    "ARGUMENTS:  \n",
    "**NOTEBOOKPATH** := Required argument. Path to `notebooks/` folder.  \n",
    "    \n",
    "---\n",
    "## filter\n",
    "```filter [OPTIONS] OUTPUTPATH```  \n",
    "  \n",
    "OPTIONS:  \n",
    "**-v, --verbose** := Cause **filter** to be verbose, showing student and solution notebooks being saved.\n",
    "\n",
    "ARGUMENTS:  \n",
    "**OUTPUTPATH** := Required argument. Path to `output/` folder.  \n",
    "\n",
    "---\n",
    "## send\n",
    "```send [OPTIONS] PATH```  \n",
    "  \n",
    "OPTIONS:  \n",
    "**-c, --coursenum** \\<coursenum> := Specify Canvas course number.\n",
    "**-v, --verbose** := Cause **send** to be verbose, showing student and solution notebooks being saved."
   ]
  }
 ],
 "metadata": {
  "jupytext": {
   "text_representation": {
    "extension": ".md",
    "format_name": "myst",
    "format_version": 0.13,
    "jupytext_version": "1.10.3"
   }
  },
  "kernelspec": {
   "display_name": "Python 3",
   "language": "python",
   "name": "python3"
  },
  "source_map": [
   12
  ]
 },
 "nbformat": 4,
 "nbformat_minor": 5
}