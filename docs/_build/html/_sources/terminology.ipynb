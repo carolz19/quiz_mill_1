{
 "cells": [
  {
   "cell_type": "markdown",
   "id": "2b80a2d7",
   "metadata": {},
   "source": [
    "# Terminology\n",
    "Term | Definition\n",
    "--- | ---\n",
    "base | The notebook that quizzes will be based on. Contains the skeleton outline of quizzes.\n",
    "unfiltered | Notebooks generated after using `generate` command. They only contain the randomly generated parameters.\n",
    "filtered | Notebooks generated after using the `filter` command. They are either a student filtered version or a solution filtered version."
   ]
  }
 ],
 "metadata": {
  "jupytext": {
   "text_representation": {
    "extension": ".md",
    "format_name": "myst",
    "format_version": 0.13,
    "jupytext_version": "1.10.3"
   }
  },
  "kernelspec": {
   "display_name": "Python 3",
   "language": "python",
   "name": "python3"
  },
  "source_map": [
   12
  ]
 },
 "nbformat": 4,
 "nbformat_minor": 5
}