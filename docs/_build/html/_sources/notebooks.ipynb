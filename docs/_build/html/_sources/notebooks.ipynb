{
 "cells": [
  {
   "cell_type": "markdown",
   "id": "005628e1",
   "metadata": {},
   "source": [
    "# Notebooks\n",
    "- [Base notebook](ex_two_layers.md)\n",
    "- [Example unfiltered notebook](ex_output_two_layers1.md)\n",
    "- [Example filtered student notebook](ex_output_two_layers1_student.md)\n",
    "- [Example filtered solution notebook](ex_output_two_layers1_solution.md)"
   ]
  }
 ],
 "metadata": {
  "jupytext": {
   "text_representation": {
    "extension": ".md",
    "format_name": "myst",
    "format_version": 0.13,
    "jupytext_version": "1.10.3"
   }
  },
  "kernelspec": {
   "display_name": "Python 3",
   "language": "python",
   "name": "python3"
  },
  "source_map": [
   12
  ]
 },
 "nbformat": 4,
 "nbformat_minor": 5
}