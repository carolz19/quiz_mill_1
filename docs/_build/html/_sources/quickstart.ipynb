{
 "cells": [
  {
   "cell_type": "markdown",
   "id": "1e951c4d",
   "metadata": {},
   "source": [
    "# Quickstart\n",
    "Skip all the details and run the below code cell to generate quizzes and push them to Canvas."
   ]
  },
  {
   "cell_type": "markdown",
   "id": "be6c8dc9",
   "metadata": {},
   "source": [
    "## Requirements\n",
    "1. Canvas API token is in outermost `quiz-mill/` folder. Learn how to get the Canvas API token [here](canvas-api.ipynb)."
   ]
  },
  {
   "cell_type": "markdown",
   "id": "4b356396",
   "metadata": {},
   "source": [
    "Run this code cell (assign NUM variable the desired number of quizzes):"
   ]
  },
  {
   "cell_type": "code",
   "execution_count": null,
   "id": "1322c46f",
   "metadata": {},
   "outputs": [],
   "source": [
    "%%bash\n",
    "NUM=5\n",
    "sh ../quiz_mill/do_all.sh $NUM "
   ]
  },
  {
   "cell_type": "markdown",
   "id": "66dc52f8",
   "metadata": {},
   "source": [
    "What did the above cell do?\n",
    "1. Removed all previous \"Two Layers\" quizzes from Canvas\n",
    "2. Removed all previous notebooks in `output/` folder\n",
    "3. Generate `NUM` notebooks with randomly generated parameters\n",
    "4. Filter notebooks into student and solution versions\n",
    "5. Push the solution version notebooks to Canvas"
   ]
  }
 ],
 "metadata": {
  "jupytext": {
   "text_representation": {
    "extension": ".md",
    "format_name": "myst",
    "format_version": 0.13,
    "jupytext_version": "1.10.3"
   }
  },
  "kernelspec": {
   "display_name": "Python 3",
   "language": "python",
   "name": "python3"
  },
  "source_map": [
   12,
   17,
   22,
   26,
   30
  ]
 },
 "nbformat": 4,
 "nbformat_minor": 5
}