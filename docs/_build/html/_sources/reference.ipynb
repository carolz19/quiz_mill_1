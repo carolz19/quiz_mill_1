{
 "cells": [
  {
   "cell_type": "markdown",
   "id": "80f42996",
   "metadata": {},
   "source": [
    "# Reference\n",
    "- [Terminology](terminology.md)\n",
    "- [Commands](commands.md)"
   ]
  }
 ],
 "metadata": {
  "jupytext": {
   "text_representation": {
    "extension": ".md",
    "format_name": "myst",
    "format_version": 0.13,
    "jupytext_version": "1.10.3"
   }
  },
  "kernelspec": {
   "display_name": "Python 3",
   "language": "python",
   "name": "python3"
  },
  "source_map": [
   12
  ]
 },
 "nbformat": 4,
 "nbformat_minor": 5
}