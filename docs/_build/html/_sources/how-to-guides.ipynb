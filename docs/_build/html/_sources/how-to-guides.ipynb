{
 "cells": [
  {
   "cell_type": "markdown",
   "id": "e50f706c",
   "metadata": {},
   "source": [
    "# How-to guides\n",
    "- [How to convert Jupyter Notebooks to Canvas quizzes](convert-notebooks-to-quizzes.md)"
   ]
  }
 ],
 "metadata": {
  "jupytext": {
   "text_representation": {
    "extension": ".md",
    "format_name": "myst",
    "format_version": 0.13,
    "jupytext_version": "1.10.3"
   }
  },
  "kernelspec": {
   "display_name": "Python 3",
   "language": "python",
   "name": "python3"
  },
  "source_map": [
   12
  ]
 },
 "nbformat": 4,
 "nbformat_minor": 5
}