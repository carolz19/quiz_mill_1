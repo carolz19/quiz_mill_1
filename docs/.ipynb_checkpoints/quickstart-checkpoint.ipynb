{
 "cells": [
  {
   "cell_type": "markdown",
   "id": "adcdfb80",
   "metadata": {},
   "source": [
    "# Quickstart\n",
    "Skip all the details and run the below code cell to generate quizzes and push them to Canvas."
   ]
  },
  {
   "cell_type": "markdown",
   "id": "5f159e46",
   "metadata": {},
   "source": [
    "## Requirements\n",
    "1. Canvas API token is in outermost `quiz-mill/` folder. Learn how to get the Canvas API token [here](canvas-api.ipynb)."
   ]
  },
  {
   "cell_type": "markdown",
   "id": "dc80d8c3",
   "metadata": {},
   "source": [
    "Run this code cell (assign NUM variable the desired number of quizzes):"
   ]
  },
  {
   "cell_type": "code",
   "execution_count": 1,
   "id": "f84b5591",
   "metadata": {},
   "outputs": [
    {
     "name": "stderr",
     "output_type": "stream",
     "text": [
      "\r",
      "Executing:   0%|          | 0/7 [00:00<?, ?cell/s]\r",
      "Executing:  14%|█▍        | 1/7 [00:01<00:09,  1.66s/cell]\r",
      "Executing:  29%|██▊       | 2/7 [00:01<00:03,  1.30cell/s]\r",
      "Executing: 100%|██████████| 7/7 [00:02<00:00,  3.35cell/s]\n",
      "\r",
      "Executing:   0%|          | 0/7 [00:00<?, ?cell/s]\r",
      "Executing:  14%|█▍        | 1/7 [00:00<00:04,  1.34cell/s]\r",
      "Executing:  29%|██▊       | 2/7 [00:00<00:01,  2.55cell/s]\r",
      "Executing: 100%|██████████| 7/7 [00:01<00:00,  5.95cell/s]\n",
      "\r",
      "Executing:   0%|          | 0/7 [00:00<?, ?cell/s]\r",
      "Executing:  14%|█▍        | 1/7 [00:00<00:04,  1.33cell/s]\r",
      "Executing:  29%|██▊       | 2/7 [00:00<00:01,  2.54cell/s]\r",
      "Executing: 100%|██████████| 7/7 [00:01<00:00,  5.94cell/s]\n",
      "\r",
      "Executing:   0%|          | 0/7 [00:00<?, ?cell/s]\r",
      "Executing:  14%|█▍        | 1/7 [00:00<00:04,  1.37cell/s]\r",
      "Executing:  29%|██▊       | 2/7 [00:00<00:01,  2.60cell/s]\r",
      "Executing: 100%|██████████| 7/7 [00:01<00:00,  5.54cell/s]\n",
      "\r",
      "Executing:   0%|          | 0/7 [00:00<?, ?cell/s]\r",
      "Executing:  14%|█▍        | 1/7 [00:00<00:04,  1.41cell/s]\r",
      "Executing:  29%|██▊       | 2/7 [00:00<00:01,  2.66cell/s]\r",
      "Executing: 100%|██████████| 7/7 [00:01<00:00,  6.14cell/s]\n"
     ]
    }
   ],
   "source": [
    "%%bash\n",
    "NUM=5\n",
    "sh ../quiz_mill/do_all.sh $NUM "
   ]
  },
  {
   "cell_type": "markdown",
   "id": "a2e87bf8",
   "metadata": {},
   "source": [
    "What did the above cell do?\n",
    "1. Removed all previous \"Two Layers\" quizzes from Canvas\n",
    "2. Removed all previous notebooks in `output/` folder\n",
    "3. Generate `NUM` notebooks with randomly generated parameters\n",
    "4. Filter notebooks into student and solution versions\n",
    "5. Push the solution version notebooks to Canvas"
   ]
  }
 ],
 "metadata": {
  "jupytext": {
   "text_representation": {
    "extension": ".md",
    "format_name": "myst",
    "format_version": 0.13,
    "jupytext_version": "1.10.3"
   }
  },
  "kernelspec": {
   "display_name": "Python 3",
   "language": "python",
   "name": "python3"
  },
  "language_info": {
   "codemirror_mode": {
    "name": "ipython",
    "version": 3
   },
   "file_extension": ".py",
   "mimetype": "text/x-python",
   "name": "python",
   "nbconvert_exporter": "python",
   "pygments_lexer": "ipython3",
   "version": "3.8.10"
  }
 },
 "nbformat": 4,
 "nbformat_minor": 5
}
