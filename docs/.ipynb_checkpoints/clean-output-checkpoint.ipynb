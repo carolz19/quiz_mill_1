{
 "cells": [
  {
   "cell_type": "markdown",
   "id": "f8a85704",
   "metadata": {},
   "source": [
    "# Clean output\n",
    "This script deletes all files in the `output/` folder in the [project file structure](project-file-structure.md).\n",
    "\n",
    "## How the script works\n",
    "\n",
    "### Import libraries"
   ]
  },
  {
   "cell_type": "markdown",
   "id": "9391ef03",
   "metadata": {},
   "source": [
    "```\n",
    "import click\n",
    "import os\n",
    "```"
   ]
  },
  {
   "cell_type": "markdown",
   "id": "be288c9b",
   "metadata": {},
   "source": [
    "### Delete files function\n",
    "Recursively travels through the directory, deleting files."
   ]
  },
  {
   "cell_type": "markdown",
   "id": "9fc13675",
   "metadata": {},
   "source": [
    "```\n",
    "def delete_files(path, verbose):\n",
    "    content = os.listdir(path)\n",
    "\n",
    "    for f in content:\n",
    "        file_path = os.path.join(path, f)\n",
    "        try:\n",
    "            if os.path.isfile(file_path):\n",
    "                os.unlink(file_path)\n",
    "                if verbose:\n",
    "                    print(\"Removed\", file_path)\n",
    "            elif os.path.isdir(file_path):\n",
    "                delete_files(file_path, verbose)\n",
    "        except Exception as e:\n",
    "            print('Failed to delete %s. Reason: %s' % (file_path, e))\n",
    "```"
   ]
  },
  {
   "cell_type": "markdown",
   "id": "ea2bd927",
   "metadata": {},
   "source": [
    "### Main function\n",
    "Function that will be run when `clean` command is run."
   ]
  },
  {
   "cell_type": "code",
   "execution_count": null,
   "id": "6bec1620",
   "metadata": {},
   "outputs": [],
   "source": [
    "@click.command()\n",
    "@click.option(\"-v\", \"--verbose\", is_flag=True, default=False)\n",
    "def main(verbose):\n",
    "    delete_files(\"../notebooks/output/\", verbose)\n",
    "\n",
    "if __name__==\"__main__\":\n",
    "    main()"
   ]
  }
 ],
 "metadata": {
  "jupytext": {
   "text_representation": {
    "extension": ".md",
    "format_name": "myst",
    "format_version": 0.13,
    "jupytext_version": "1.10.3"
   }
  },
  "kernelspec": {
   "display_name": "Python 3",
   "language": "python",
   "name": "python3"
  },
  "language_info": {
   "codemirror_mode": {
    "name": "ipython",
    "version": 3
   },
   "file_extension": ".py",
   "mimetype": "text/x-python",
   "name": "python",
   "nbconvert_exporter": "python",
   "pygments_lexer": "ipython3",
   "version": "3.8.10"
  }
 },
 "nbformat": 4,
 "nbformat_minor": 5
}
