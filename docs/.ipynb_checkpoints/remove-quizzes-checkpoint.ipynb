{
 "cells": [
  {
   "cell_type": "markdown",
   "id": "2ee2cab7",
   "metadata": {},
   "source": [
    "# Remove Quizzes\n",
    "Script to remove all Two Layers quizzes from Canvas."
   ]
  },
  {
   "cell_type": "markdown",
   "id": "72671c5d",
   "metadata": {},
   "source": [
    "## How the script works\n",
    "\n",
    "### Import libraries"
   ]
  },
  {
   "cell_type": "markdown",
   "id": "ff3c5cea",
   "metadata": {},
   "source": [
    "from canvasapi import Canvas\n",
    "from pathlib import Path\n",
    "import yaml"
   ]
  },
  {
   "cell_type": "markdown",
   "id": "fa4ae7b1",
   "metadata": {},
   "source": [
    "### Main function\n",
    "How it works:\n",
    "1. Get tokens\n",
    "2. Get Canvas object\n",
    "3. Get course object and assignments\n",
    "4. Delete Two Layers quizzes from Canvas"
   ]
  },
  {
   "cell_type": "markdown",
   "id": "9f130681",
   "metadata": {},
   "source": [
    "def main(path, verbose):\n",
    "\n",
    "    path_to_token = Path(path).resolve()\n",
    "    file = open(path_to_token / \"token.yaml\")\n",
    "    token = yaml.load(file, Loader=yaml.FullLoader)\n",
    "\n",
    "    API_URL = \"https://canvas.ubc.ca/\"\n",
    "    API_KEY = token\n",
    "\n",
    "    canvas = Canvas(API_URL, API_KEY)\n",
    "\n",
    "    course = canvas.get_course(51824)\n",
    "\n",
    "    assignments = course.get_assignments()\n",
    "\n",
    "    for assignment in assignments:\n",
    "        if 'Two Layers' in str(assignment):\n",
    "            assignment.delete()\n",
    "            if verbose:\n",
    "                print(str(assignment), \"deleted\")"
   ]
  }
 ],
 "metadata": {
  "jupytext": {
   "text_representation": {
    "extension": ".md",
    "format_name": "myst",
    "format_version": 0.13,
    "jupytext_version": "1.10.3"
   }
  },
  "kernelspec": {
   "display_name": "Python 3",
   "language": "python",
   "name": "python3"
  },
  "language_info": {
   "codemirror_mode": {
    "name": "ipython",
    "version": 3
   },
   "file_extension": ".py",
   "mimetype": "text/x-python",
   "name": "python",
   "nbconvert_exporter": "python",
   "pygments_lexer": "ipython3",
   "version": "3.8.10"
  }
 },
 "nbformat": 4,
 "nbformat_minor": 5
}
