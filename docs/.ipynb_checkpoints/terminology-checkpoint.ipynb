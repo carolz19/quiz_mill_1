{
 "cells": [
  {
   "cell_type": "markdown",
   "id": "e2a0ecdb",
   "metadata": {},
   "source": [
    "# Terminology\n",
    "Term | Definition\n",
    "--- | ---\n",
    "base | The notebook that quizzes will be based on. Contains the skeleton outline of quizzes.\n",
    "unfiltered | Notebooks generated after using `generate` command. They only contain the randomly generated parameters.\n",
    "filtered | Notebooks generated after using the `filter` command. They are either a student filtered version or a solution filtered version."
   ]
  }
 ],
 "metadata": {
  "jupytext": {
   "text_representation": {
    "extension": ".md",
    "format_name": "myst",
    "format_version": 0.13,
    "jupytext_version": "1.10.3"
   }
  },
  "kernelspec": {
   "display_name": "Python 3",
   "language": "python",
   "name": "python3"
  },
  "language_info": {
   "codemirror_mode": {
    "name": "ipython",
    "version": 3
   },
   "file_extension": ".py",
   "mimetype": "text/x-python",
   "name": "python",
   "nbconvert_exporter": "python",
   "pygments_lexer": "ipython3",
   "version": "3.8.10"
  }
 },
 "nbformat": 4,
 "nbformat_minor": 5
}
