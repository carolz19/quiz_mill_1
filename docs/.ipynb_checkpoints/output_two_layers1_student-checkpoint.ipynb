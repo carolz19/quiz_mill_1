{
 "cells": [
  {
   "cell_type": "markdown",
   "id": "4b0d4b4e",
   "metadata": {
    "allowed_attempts": 3,
    "cant_go_back": false,
    "ctype": "quiz",
    "scoring_policy": "keep_highest",
    "shuffle_answers": false,
    "title": "Two Layers Quiz 1"
   },
   "source": [
    "# Two Layers Quiz 1 "
   ]
  },
  {
   "cell_type": "markdown",
   "id": "c40ed72b",
   "metadata": {
    "ctype": "group",
    "name": "general"
   },
   "source": [
    "## Questions"
   ]
  },
  {
   "cell_type": "markdown",
   "id": "fba77dcc",
   "metadata": {
    "ctype": "question",
    "quesnum": "1",
    "question_type": "numerical_question"
   },
   "source": [
    "### Question 1\n",
    "sol = 193.5, epsilon1 = 0.63, epsilon2 = 0.63, albedo = 0.14\n",
    "Given the above parameters, find the temperature of layer 1.\n",
    "Give your answer to three decimal places."
   ]
  }
 ],
 "metadata": {
  "jupytext": {
   "cell_metadata_filter": "-all",
   "formats": "md:myst,ipynb,py:percent",
   "notebook_metadata_filter": "all,-language_info,-toc,-latex_envs"
  },
  "kernelspec": {
   "display_name": "Python 3",
   "language": "python",
   "name": "python3"
  },
  "language_info": {
   "codemirror_mode": {
    "name": "ipython",
    "version": 3
   },
   "file_extension": ".py",
   "mimetype": "text/x-python",
   "name": "python",
   "nbconvert_exporter": "python",
   "pygments_lexer": "ipython3",
   "version": "3.8.10"
  },
  "papermill": {
   "default_parameters": {},
   "duration": 2.021539,
   "end_time": "2021-08-16T20:50:18.705938",
   "environment_variables": {},
   "exception": null,
   "input_path": "/Users/carolzhang/Projects/eoas-ubc/quiz_mill/notebooks/two_layers.ipynb",
   "output_path": "/Users/carolzhang/Projects/eoas-ubc/quiz_mill/notebooks/output/unfiltered/output_two_layers1.ipynb",
   "parameters": {
    "albedo": 0.14,
    "epsilon1": 0.63,
    "epsilon2": 0.63,
    "sol": 193.5
   },
   "start_time": "2021-08-16T20:50:16.684399",
   "version": "2.3.3"
  }
 },
 "nbformat": 4,
 "nbformat_minor": 5
}
