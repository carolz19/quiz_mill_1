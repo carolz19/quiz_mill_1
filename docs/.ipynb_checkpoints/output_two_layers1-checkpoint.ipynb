{
 "cells": [
  {
   "cell_type": "markdown",
   "id": "85355d62",
   "metadata": {
    "papermill": {
     "duration": 0.00712,
     "end_time": "2021-08-16T20:50:18.195537",
     "exception": false,
     "start_time": "2021-08-16T20:50:18.188417",
     "status": "completed"
    },
    "tags": []
   },
   "source": [
    "# getting started \n",
    "\n",
    "in the quiz_mill folder, do:\n",
    "\n",
    "`pip install -e . -U`\n",
    "\n",
    "\n",
    "to install the quiz_mill package\n",
    "\n",
    "Then at the command line, create a new notebook with:\n",
    "\n",
    "`papermill -p sol 330 -p epsilon1 0.4 -p epsilon2 0.6 notebooks/two_layers.ipynb trial1.ipynb`\n"
   ]
  },
  {
   "cell_type": "code",
   "execution_count": 1,
   "id": "d48d9636",
   "metadata": {
    "execution": {
     "iopub.execute_input": "2021-08-16T20:50:18.215508Z",
     "iopub.status.busy": "2021-08-16T20:50:18.214642Z",
     "iopub.status.idle": "2021-08-16T20:50:18.410516Z",
     "shell.execute_reply": "2021-08-16T20:50:18.411079Z"
    },
    "papermill": {
     "duration": 0.210044,
     "end_time": "2021-08-16T20:50:18.411398",
     "exception": false,
     "start_time": "2021-08-16T20:50:18.201354",
     "status": "completed"
    },
    "tags": []
   },
   "outputs": [],
   "source": [
    "from quiz_mill.solve_layers import do_two, do_two_matrix, find_temps"
   ]
  },
  {
   "cell_type": "code",
   "execution_count": 2,
   "id": "19476b6f",
   "metadata": {
    "execution": {
     "iopub.execute_input": "2021-08-16T20:50:18.425820Z",
     "iopub.status.busy": "2021-08-16T20:50:18.424999Z",
     "iopub.status.idle": "2021-08-16T20:50:18.427060Z",
     "shell.execute_reply": "2021-08-16T20:50:18.427758Z"
    },
    "papermill": {
     "duration": 0.011157,
     "end_time": "2021-08-16T20:50:18.427987",
     "exception": false,
     "start_time": "2021-08-16T20:50:18.416830",
     "status": "completed"
    },
    "tags": [
     "parameters"
    ]
   },
   "outputs": [],
   "source": [
    "# Default parameters\n",
    "sol = 341.0\n",
    "epsilon1 = 0.55\n",
    "epsilon2 = 0.55\n",
    "albedo = 0.3"
   ]
  },
  {
   "cell_type": "code",
   "execution_count": 3,
   "id": "4e457778",
   "metadata": {
    "execution": {
     "iopub.execute_input": "2021-08-16T20:50:18.442500Z",
     "iopub.status.busy": "2021-08-16T20:50:18.441678Z",
     "iopub.status.idle": "2021-08-16T20:50:18.444082Z",
     "shell.execute_reply": "2021-08-16T20:50:18.444876Z"
    },
    "papermill": {
     "duration": 0.012004,
     "end_time": "2021-08-16T20:50:18.445102",
     "exception": false,
     "start_time": "2021-08-16T20:50:18.433098",
     "status": "completed"
    },
    "tags": [
     "injected-parameters"
    ]
   },
   "outputs": [],
   "source": [
    "# Parameters\n",
    "sol = 193.5\n",
    "epsilon1 = 0.63\n",
    "epsilon2 = 0.63\n",
    "albedo = 0.14\n"
   ]
  },
  {
   "cell_type": "markdown",
   "id": "2cd91d6a",
   "metadata": {
    "papermill": {
     "duration": 0.006085,
     "end_time": "2021-08-16T20:50:18.456391",
     "exception": false,
     "start_time": "2021-08-16T20:50:18.450306",
     "status": "completed"
    },
    "tags": []
   },
   "source": [
    "## compare the two functions"
   ]
  },
  {
   "cell_type": "code",
   "execution_count": 4,
   "id": "51944938",
   "metadata": {
    "execution": {
     "iopub.execute_input": "2021-08-16T20:50:18.473635Z",
     "iopub.status.busy": "2021-08-16T20:50:18.472739Z",
     "iopub.status.idle": "2021-08-16T20:50:18.475951Z",
     "shell.execute_reply": "2021-08-16T20:50:18.476661Z"
    },
    "papermill": {
     "duration": 0.014815,
     "end_time": "2021-08-16T20:50:18.476866",
     "exception": false,
     "start_time": "2021-08-16T20:50:18.462051",
     "status": "completed"
    },
    "tags": []
   },
   "outputs": [
    {
     "name": "stdout",
     "output_type": "stream",
     "text": [
      "analytic temperatures: (273.97307601045327, 251.483974108619, 222.56835381097414)\n",
      "numeric temperatues: (273.97307601045327, 251.483974108619, 222.56835381097414)\n"
     ]
    }
   ],
   "source": [
    "analytic_fluxes = do_two(sol, epsilon1, albedo)\n",
    "numeric_fluxes = do_two_matrix(sol, albedo, epsilon1, epsilon2)\n",
    "print(f\"analytic temperatures: {find_temps(analytic_fluxes)}\")\n",
    "print(f\"numeric temperatues: {find_temps(numeric_fluxes)}\")"
   ]
  },
  {
   "cell_type": "code",
   "execution_count": null,
   "id": "33d4e9b7",
   "metadata": {
    "papermill": {
     "duration": 0.005636,
     "end_time": "2021-08-16T20:50:18.490012",
     "exception": false,
     "start_time": "2021-08-16T20:50:18.484376",
     "status": "completed"
    },
    "tags": []
   },
   "outputs": [],
   "source": []
  }
 ],
 "metadata": {
  "jupytext": {
   "cell_metadata_filter": "-all",
   "formats": "md:myst,ipynb,py:percent",
   "notebook_metadata_filter": "all,-language_info,-toc,-latex_envs"
  },
  "kernelspec": {
   "display_name": "Python 3",
   "language": "python",
   "name": "python3"
  },
  "language_info": {
   "codemirror_mode": {
    "name": "ipython",
    "version": 3
   },
   "file_extension": ".py",
   "mimetype": "text/x-python",
   "name": "python",
   "nbconvert_exporter": "python",
   "pygments_lexer": "ipython3",
   "version": "3.8.10"
  },
  "papermill": {
   "default_parameters": {},
   "duration": 2.021539,
   "end_time": "2021-08-16T20:50:18.705938",
   "environment_variables": {},
   "exception": null,
   "input_path": "/Users/carolzhang/Projects/eoas-ubc/quiz_mill/notebooks/two_layers.ipynb",
   "output_path": "/Users/carolzhang/Projects/eoas-ubc/quiz_mill/notebooks/output/unfiltered/output_two_layers1.ipynb",
   "parameters": {
    "albedo": 0.14,
    "epsilon1": 0.63,
    "epsilon2": 0.63,
    "sol": 193.5
   },
   "start_time": "2021-08-16T20:50:16.684399",
   "version": "2.3.3"
  }
 },
 "nbformat": 4,
 "nbformat_minor": 5
}
