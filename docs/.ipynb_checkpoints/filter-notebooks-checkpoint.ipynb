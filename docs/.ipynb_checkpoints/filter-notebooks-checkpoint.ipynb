{
 "cells": [
  {
   "cell_type": "markdown",
   "id": "49f0d5b1",
   "metadata": {},
   "source": [
    "# Filter Notebook"
   ]
  },
  {
   "cell_type": "markdown",
   "id": "6c110411",
   "metadata": {},
   "source": [
    "Note: currently only works for Two Layers quizzes.\n",
    "\n",
    "This script takes in a directory path containing \"unfiltered\" notebooks and outputs \"filtered\" student and solution notebooks. \"Unfiltered\" notebooks do not contain metadata associated with questions, answers, and parameters. \"Filtered\" student notebooks only contains questions, while the solution notebooks contains questions and answers. Both types of \"filtered\" notebooks contain specific metadata, allowing us to use the **md2canvas** command to upload our notebooks as quizzes to canvas."
   ]
  },
  {
   "cell_type": "markdown",
   "id": "a0744b0e",
   "metadata": {},
   "source": [
    "## How the script works"
   ]
  },
  {
   "cell_type": "markdown",
   "id": "b9a15437",
   "metadata": {},
   "source": [
    "### Import libraries"
   ]
  },
  {
   "cell_type": "markdown",
   "id": "b6af5f7a",
   "metadata": {},
   "source": [
    "```\n",
    "import os\n",
    "import jupytext as jp\n",
    "from jupytext.cli import jupytext\n",
    "from pathlib import Path\n",
    "from nbformat.v4.nbbase import new_markdown_cell\n",
    "import click\n",
    "import re\n",
    "from .solve_layers import do_two_matrix\n",
    "```"
   ]
  },
  {
   "cell_type": "markdown",
   "id": "a2792ca4",
   "metadata": {},
   "source": [
    "### Helper functions"
   ]
  },
  {
   "cell_type": "markdown",
   "id": "e0aa2925",
   "metadata": {},
   "source": [
    "#### Add quiz metadata\n",
    "Adds metadata to indicate that our notebook is a quiz. We are also able to customize quiz options."
   ]
  },
  {
   "cell_type": "markdown",
   "id": "6e8439d0",
   "metadata": {},
   "source": [
    "```\n",
    "def add_quiz_metadata(quiz_num=1, title=\"Two Layers Quiz\", allowed_attempts=3, scoring_policy=\"keep_highest\", cant_go_back=False, shuffle_answers=False):\n",
    "    quiz = new_markdown_cell(source=f\"# {title} {quiz_num}\")\n",
    "    quiz[\"metadata\"][\"ctype\"] = \"quiz\"\n",
    "    quiz[\"metadata\"][\"title\"] = f\"{title} {quiz_num}\"\n",
    "    quiz[\"metadata\"][\"allowed_attempts\"] = allowed_attempts\n",
    "    quiz[\"metadata\"][\"scoring_policy\"] = scoring_policy\n",
    "    quiz[\"metadata\"][\"cant_go_back\"] = cant_go_back\n",
    "    quiz[\"metadata\"][\"shuffle_answers\"] = shuffle_answers\n",
    "    return quiz\n",
    "```"
   ]
  },
  {
   "cell_type": "markdown",
   "id": "73fc62e4",
   "metadata": {},
   "source": [
    "#### Add group metadata\n",
    "Indicates the start of the quiz questions."
   ]
  },
  {
   "cell_type": "markdown",
   "id": "ce9ca0ca",
   "metadata": {},
   "source": [
    "```\n",
    "def add_group_metadata():\n",
    "    group = new_markdown_cell(source=\"## Questions\")\n",
    "    group[\"metadata\"][\"ctype\"] = \"group\"\n",
    "    group[\"metadata\"][\"name\"] = \"general\"\n",
    "    return group\n",
    "```"
   ]
  },
  {
   "cell_type": "markdown",
   "id": "02646145",
   "metadata": {},
   "source": [
    "#### Get injected parameters\n",
    "Each unfiltered notebook contains injected random parameters (from generate_notebooks.py). This function parses the values from the notebook to get the answer for our questions.\n",
    "\n",
    "Note: specific to Two Layers quizzes."
   ]
  },
  {
   "cell_type": "markdown",
   "id": "cc9cac0a",
   "metadata": {},
   "source": [
    "```\n",
    "def get_injected_parameters(nb):\n",
    "    for _, the_cell in enumerate(nb['cells']):\n",
    "        if (\n",
    "                    len(the_cell[\"metadata\"][\"tags\"]) > 0 and \n",
    "                    the_cell[\"metadata\"][\"tags\"][0] == \"injected-parameters\"\n",
    "                    ):\n",
    "            parameters = list(the_cell[\"source\"].split('\\n')[1:-1])\n",
    "            sol = float(re.sub(\"^sol = \", \"\", parameters[0]))\n",
    "            epsilon1 = float(re.sub(\"^epsilon1 = \", \"\", parameters[1]))\n",
    "            epsilon2 = float(re.sub(\"^epsilon2 = \", \"\", parameters[2]))\n",
    "            albedo = float(re.sub(\"^albedo = \", \"\", parameters[3]))\n",
    "            break\n",
    "    return sol,epsilon1,epsilon2,albedo\n",
    "```"
   ]
  },
  {
   "cell_type": "markdown",
   "id": "b32b0e41",
   "metadata": {},
   "source": [
    "#### Add questions cells\n",
    "Creates a question cell containing the appropriate metadata.\n",
    "\n",
    "Note: specific to Two Layers quizzes."
   ]
  },
  {
   "cell_type": "markdown",
   "id": "13a0a20e",
   "metadata": {},
   "source": [
    "```\n",
    "def add_question_cells(sol, epsilon1, epsilon2, albedo):\n",
    "    source = f\"\"\"\\\n",
    "### Question 1\n",
    "sol = {sol}, epsilon1 = {epsilon1}, epsilon2 = {epsilon2}, albedo = {albedo}\n",
    "Given the above parameters, find the temperature of layer 1.\n",
    "Give your answer to three decimal places.\\\n",
    "\"\"\"\n",
    "    question = new_markdown_cell(source=source)\n",
    "    question[\"metadata\"][\"quesnum\"]='1'\n",
    "    question[\"metadata\"][\"ctype\"]='question'\n",
    "    question[\"metadata\"][\"question_type\"] = \"numerical_question\"\n",
    "    return question\n",
    "```"
   ]
  },
  {
   "cell_type": "markdown",
   "id": "60b217b6",
   "metadata": {},
   "source": [
    "#### Get layer 1 answer\n",
    "Creates an answer cell containing the temperature of layer 1."
   ]
  },
  {
   "cell_type": "markdown",
   "id": "d3f61d90",
   "metadata": {},
   "source": [
    "```\n",
    "def get_layer_1_ans(sol, epsilon1, epsilon2, albedo):\n",
    "    T1 = do_two_matrix(sol, albedo, epsilon1, epsilon2)[1]\n",
    "    source = \"* {:0.3f}, 3: precision_answer\".format(T1)\n",
    "    answer0 = new_markdown_cell(source=source)\n",
    "    answer0['metadata']['quesnum'] = '1'\n",
    "    answer0['metadata']['ctype']='answer'\n",
    "    return answer0\n",
    "```"
   ]
  },
  {
   "cell_type": "markdown",
   "id": "e262fa15",
   "metadata": {},
   "source": [
    "#### Save student notebook\n",
    "Saves student notebook to user-inputted folder."
   ]
  },
  {
   "cell_type": "markdown",
   "id": "c82d3530",
   "metadata": {},
   "source": [
    "```\n",
    "def save_student_notebook(out_folder, in_file, nb, new_cells, verbose):\n",
    "    nb['cells'] = new_cells\n",
    "    out_file = out_folder / \"student\" / f\"{in_file[:-6]}_student\"\n",
    "    out_file = out_file.with_suffix('.md')\n",
    "    jp.write(nb,out_file,fmt='md:myst')\n",
    "    out_file = out_file.with_suffix('.ipynb')\n",
    "    jp.write(nb,out_file)\n",
    "```"
   ]
  },
  {
   "cell_type": "markdown",
   "id": "73a6935b",
   "metadata": {},
   "source": [
    "#### Save solution notebook\n",
    "Saves solution notebook to user-inputted folder."
   ]
  },
  {
   "cell_type": "markdown",
   "id": "033c86ce",
   "metadata": {},
   "source": [
    "```\n",
    "def save_solution_notebook(out_folder, in_file, nb, new_cells, verbose):\n",
    "    nb['cells'] = new_cells\n",
    "    out_file = out_folder / \"solution\" / f\"{in_file[:-6]}_solution\"\n",
    "    print(out_file)\n",
    "    out_file = out_file.with_suffix('.md')\n",
    "    jp.write(nb,out_file,fmt='md:myst')\n",
    "    out_file = out_file.with_suffix('.ipynb')\n",
    "    jp.write(nb,out_file)\n",
    "```"
   ]
  },
  {
   "cell_type": "markdown",
   "id": "8016d396",
   "metadata": {},
   "source": [
    "### Main function\n",
    "How it works:\n",
    "1. Check if user-inputted directories exist. If yes, continue. Else, return.\n",
    "2. Get an \"unfiltered\" notebook from user-inputted directory\n",
    "3. Add appropriate metadata\n",
    "4. Add questions and save \"filtered\" student notebook\n",
    "5. Add solutions and save \"filtered\" solution notebook\n",
    "6. Repeat from step 2 until all \"unfiltered\" notebooks are \"filtered\""
   ]
  },
  {
   "cell_type": "markdown",
   "id": "76edbf9c",
   "metadata": {},
   "source": [
    "```\n",
    "@click.command()\n",
    "@click.argument(\"path\", type=str, nargs=1)\n",
    "@click.option(\"-v\", \"--verbose\", is_flag=True, default=False)\n",
    "def main(path, verbose):\n",
    "    path = Path(path).resolve()\n",
    "    in_folder = path / \"unfiltered\"\n",
    "    out_folder = path / \"filtered\"\n",
    "\n",
    "    # Return if directory does not exists\n",
    "    if not in_folder.is_dir() or not out_folder.is_dir():\n",
    "        print('One or more inputted directory paths does not exist.')\n",
    "        return\n",
    "\n",
    "    # Iterate through each unfiltered notebook and filter it\n",
    "    for _, _, files in os.walk(in_folder, topdown=False):\n",
    "\n",
    "        quiz_num = 1\n",
    "        \n",
    "        for in_file in files:\n",
    "            nb = jp.read(in_folder / in_file)\n",
    "\n",
    "            new_cells = []\n",
    "\n",
    "            # Add quiz metadata\n",
    "            quiz = add_quiz_metadata(quiz_num, title=\"Two Layers Quiz\", allowed_attempts=3, scoring_policy=\"keep_highest\", cant_go_back=False, shuffle_answers=False)\n",
    "            new_cells.append(quiz)\n",
    "            quiz_num += 1\n",
    "\n",
    "            # Add group metadata\n",
    "            group = add_group_metadata()\n",
    "            new_cells.append(group)\n",
    "\n",
    "            # Get parameters\n",
    "            sol, epsilon1, epsilon2, albedo = get_injected_parameters(nb)\n",
    "\n",
    "            # Add question cells\n",
    "            question = add_question_cells(sol, epsilon1, epsilon2, albedo)\n",
    "            new_cells.append(question)\n",
    "\n",
    "            # Save student notebook\n",
    "            save_student_notebook(out_folder, in_file, nb, new_cells, verbose)\n",
    "\n",
    "            # Add solutions\n",
    "            answer0 = get_layer_1_ans(sol, epsilon1, epsilon2, albedo)\n",
    "            new_cells.append(answer0)\n",
    "            \n",
    "            # Save solution notebook\n",
    "            save_solution_notebook(out_folder, in_file, nb, new_cells, verbose)\n",
    "\n",
    "if __name__ == \"__main__\":\n",
    "    main()\n",
    "```"
   ]
  },
  {
   "cell_type": "markdown",
   "id": "45f918c1",
   "metadata": {},
   "source": [
    "## Sample outputs\n",
    "### Student notebook\n",
    "![student notebook](student_notebook.png)\n",
    "### Solution notebook\n",
    "![solution notebook](solution_notebook.png)"
   ]
  }
 ],
 "metadata": {
  "jupytext": {
   "text_representation": {
    "extension": ".md",
    "format_name": "myst",
    "format_version": 0.13,
    "jupytext_version": "1.10.3"
   }
  },
  "kernelspec": {
   "display_name": "Python 3",
   "language": "python",
   "name": "python3"
  },
  "language_info": {
   "codemirror_mode": {
    "name": "ipython",
    "version": 3
   },
   "file_extension": ".py",
   "mimetype": "text/x-python",
   "name": "python",
   "nbconvert_exporter": "python",
   "pygments_lexer": "ipython3",
   "version": "3.8.10"
  }
 },
 "nbformat": 4,
 "nbformat_minor": 5
}
