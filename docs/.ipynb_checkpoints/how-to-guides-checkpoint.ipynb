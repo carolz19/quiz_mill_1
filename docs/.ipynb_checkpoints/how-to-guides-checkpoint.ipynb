{
 "cells": [
  {
   "cell_type": "markdown",
   "id": "9915e177",
   "metadata": {},
   "source": [
    "# How-to guides\n",
    "- [How to convert Jupyter Notebooks to Canvas quizzes](convert-notebooks-to-quizzes.md)"
   ]
  }
 ],
 "metadata": {
  "jupytext": {
   "text_representation": {
    "extension": ".md",
    "format_name": "myst",
    "format_version": 0.13,
    "jupytext_version": "1.10.3"
   }
  },
  "kernelspec": {
   "display_name": "Python 3 (ipykernel)",
   "language": "python",
   "name": "python3"
  },
  "language_info": {
   "codemirror_mode": {
    "name": "ipython",
    "version": 3
   },
   "file_extension": ".py",
   "mimetype": "text/x-python",
   "name": "python",
   "nbconvert_exporter": "python",
   "pygments_lexer": "ipython3",
   "version": "3.8.10"
  }
 },
 "nbformat": 4,
 "nbformat_minor": 5
}
