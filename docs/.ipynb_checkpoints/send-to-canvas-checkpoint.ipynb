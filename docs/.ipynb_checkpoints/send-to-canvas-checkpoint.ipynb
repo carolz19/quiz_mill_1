{
 "cells": [
  {
   "cell_type": "markdown",
   "id": "380fe3ac",
   "metadata": {},
   "source": [
    "# Send to Canvas\n",
    "Bash script to send \"filtered\" solution markdown files to Canvas."
   ]
  },
  {
   "cell_type": "markdown",
   "id": "c548674d",
   "metadata": {},
   "source": [
    "## How the script works\n",
    "\n",
    "### Import libraries"
   ]
  },
  {
   "cell_type": "markdown",
   "id": "7bff19c6",
   "metadata": {},
   "source": [
    "```\n",
    "import subprocess\n",
    "import click\n",
    "import glob\n",
    "```"
   ]
  },
  {
   "cell_type": "markdown",
   "id": "8b573f9a",
   "metadata": {},
   "source": [
    "### Main function \n",
    "How it works:\n",
    "1. Gets all \"filtered\" solution markdown files in **notebooks/output/filtered/solution/**\n",
    "2. Send each \"filtered\" solution markdown file to Canvas"
   ]
  },
  {
   "cell_type": "markdown",
   "id": "29bb31f4",
   "metadata": {},
   "source": [
    "```\n",
    "@click.command()\n",
    "@click.argument(\"path\", type=str, nargs=1)\n",
    "@click.option(\"-i\", \"--id\", default=51824)\n",
    "@click.option(\"-v\", \"--verbose\", is_flag=True, default=False)\n",
    "def main(path, id, verbose):\n",
    "    md_files = glob.glob(path + \"*md\")\n",
    "\n",
    "    if not md_files:\n",
    "        print('No files to send or directory does not exist.')\n",
    "        return\n",
    "    \n",
    "    for file in md_files:\n",
    "        process = subprocess.run([\"md2canvas\", file, \"-f\", \"../token.yaml\", \"-c\", str(id), \"-u\", \"https://canvas.ubc.ca\", \"-s\"], check=True, stdout=subprocess.PIPE, universal_newlines=True)\n",
    "        if verbose:\n",
    "            print(process.stdout)\n",
    "```"
   ]
  }
 ],
 "metadata": {
  "jupytext": {
   "text_representation": {
    "extension": ".md",
    "format_name": "myst",
    "format_version": 0.13,
    "jupytext_version": "1.10.3"
   }
  },
  "kernelspec": {
   "display_name": "Python 3",
   "language": "python",
   "name": "python3"
  },
  "language_info": {
   "codemirror_mode": {
    "name": "ipython",
    "version": 3
   },
   "file_extension": ".py",
   "mimetype": "text/x-python",
   "name": "python",
   "nbconvert_exporter": "python",
   "pygments_lexer": "ipython3",
   "version": "3.8.10"
  }
 },
 "nbformat": 4,
 "nbformat_minor": 5
}
